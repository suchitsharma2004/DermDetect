{
 "cells": [
  {
   "cell_type": "code",
   "execution_count": 4,
   "id": "2e4f5bff",
   "metadata": {},
   "outputs": [],
   "source": [
    "import tensorflow as tf\n",
    "model = tf.keras.models.load_model('final_skin_disease_model.h5')\n"
   ]
  },
  {
   "cell_type": "code",
   "execution_count": 15,
   "id": "f835daa8",
   "metadata": {},
   "outputs": [
    {
     "ename": "SyntaxError",
     "evalue": "(unicode error) 'unicodeescape' codec can't decode bytes in position 2-3: truncated \\UXXXXXXXX escape (2793108718.py, line 3)",
     "output_type": "error",
     "traceback": [
      "\u001b[1;36m  Cell \u001b[1;32mIn[15], line 3\u001b[1;36m\u001b[0m\n\u001b[1;33m    test_image = image.load_img('C:\\Users\\91819\\OneDrive - BENNETT UNIVERSITY\\Pictures\\642x361_Slide_4_Skin_Infections.jpg', target_size=(224, 224))\u001b[0m\n\u001b[1;37m                                                                                                                           ^\u001b[0m\n\u001b[1;31mSyntaxError\u001b[0m\u001b[1;31m:\u001b[0m (unicode error) 'unicodeescape' codec can't decode bytes in position 2-3: truncated \\UXXXXXXXX escape\n"
     ]
    }
   ],
   "source": [
    "import numpy as np\n",
    "from keras.preprocessing import image\n",
    "test_image = image.load_img('C:\\Users\\91819\\OneDrive - BENNETT UNIVERSITY\\Pictures\\642x361_Slide_4_Skin_Infections.jpg', target_size=(224, 224))\n",
    "\n",
    "test_image = image.img_to_array(test_image)\n",
    "test_image /= 255.0\n",
    "test_image = np.expand_dims(test_image, axis = 0)"
   ]
  },
  {
   "cell_type": "code",
   "execution_count": 8,
   "id": "54f1e6a9",
   "metadata": {},
   "outputs": [
    {
     "name": "stdout",
     "output_type": "stream",
     "text": [
      "1/1 [==============================] - 2s 2s/step\n"
     ]
    }
   ],
   "source": [
    "predictions = model.predict(test_image)\n",
    "predicted_class_index = np.argmax(predictions)"
   ]
  },
  {
   "cell_type": "code",
   "execution_count": 9,
   "id": "315df4fb",
   "metadata": {},
   "outputs": [
    {
     "data": {
      "text/plain": [
       "'Pigment'"
      ]
     },
     "execution_count": 9,
     "metadata": {},
     "output_type": "execute_result"
    }
   ],
   "source": [
    "class_labels=[\"Enfeksiyonel\",\"Ekzama\",\"Acne\",\"Pigment\",\"Benign\",\"Malign\"]\n",
    "predicted_class_label=class_labels[predicted_class_index]\n",
    "predicted_class_label"
   ]
  },
  {
   "cell_type": "code",
   "execution_count": 58,
   "id": "228283c9",
   "metadata": {},
   "outputs": [
    {
     "data": {
      "text/plain": [
       "5"
      ]
     },
     "execution_count": 58,
     "metadata": {},
     "output_type": "execute_result"
    }
   ],
   "source": [
    "predicted_class_index\n"
   ]
  },
  {
   "cell_type": "code",
   "execution_count": null,
   "id": "87869702",
   "metadata": {},
   "outputs": [],
   "source": []
  }
 ],
 "metadata": {
  "kernelspec": {
   "display_name": "Python 3 (ipykernel)",
   "language": "python",
   "name": "python3"
  },
  "language_info": {
   "codemirror_mode": {
    "name": "ipython",
    "version": 3
   },
   "file_extension": ".py",
   "mimetype": "text/x-python",
   "name": "python",
   "nbconvert_exporter": "python",
   "pygments_lexer": "ipython3",
   "version": "3.10.7"
  }
 },
 "nbformat": 4,
 "nbformat_minor": 5
}
